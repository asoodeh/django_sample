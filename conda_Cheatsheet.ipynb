{
 "cells": [
  {
   "cell_type": "markdown",
   "metadata": {},
   "source": [
    "# conda\n",
    "\n",
    "### Creating an environment with commands"
   ]
  },
  {
   "cell_type": "markdown",
   "metadata": {},
   "source": [
    "```python\n",
    "\n",
    "conda create --name <my-env>\n",
    "\n",
    "conda create -n myenv python=3.9  scipy django \n",
    "or\n",
    "conda install -n myenv python=3.9  scipy django\n"
   ]
  },
  {
   "cell_type": "markdown",
   "metadata": {},
   "source": [
    "### Specifying a different target platform for an environment\n"
   ]
  },
  {
   "cell_type": "markdown",
   "metadata": {},
   "source": [
    "```python\n",
    "conda create --platform osx-64 --name python-x64 python\n",
    "\n",
    " conda activate ./envs\n",
    " "
   ]
  },
  {
   "cell_type": "markdown",
   "metadata": {},
   "source": [
    "### Cloning an environment"
   ]
  },
  {
   "cell_type": "markdown",
   "metadata": {},
   "source": [
    "```python\n",
    "conda create --name myclone --clone myenv\n",
    "\n",
    "conda info --envs"
   ]
  },
  {
   "cell_type": "markdown",
   "metadata": {},
   "source": [
    "### Viewing a list of your environments"
   ]
  },
  {
   "cell_type": "markdown",
   "metadata": {},
   "source": [
    "```python\n",
    "conda env list\n",
    "or\n",
    "conda info --envs"
   ]
  },
  {
   "cell_type": "markdown",
   "metadata": {},
   "source": [
    "### Viewing a list of the packages in an environment"
   ]
  },
  {
   "cell_type": "markdown",
   "metadata": {},
   "source": [
    "```python\n",
    "conda list -n myenv\n",
    "\n",
    "conda list"
   ]
  },
  {
   "cell_type": "markdown",
   "metadata": {},
   "source": [
    "### Exporting an environment file across platforms"
   ]
  },
  {
   "cell_type": "markdown",
   "metadata": {},
   "source": [
    "```python\n",
    "conda install python=3.7 codecov"
   ]
  },
  {
   "cell_type": "markdown",
   "metadata": {},
   "source": [
    "### Removing an environment"
   ]
  },
  {
   "cell_type": "markdown",
   "metadata": {},
   "source": [
    "```python\n",
    "conda remove --name myenv --all\n",
    "\n",
    "conda info --envs"
   ]
  },
  {
   "cell_type": "markdown",
   "metadata": {},
   "source": [
    "### Managing channels"
   ]
  },
  {
   "cell_type": "markdown",
   "metadata": {},
   "source": [
    "```python\n",
    "conda config --set channel_priority disabled\n",
    "\n",
    "conda config --add channels new_channel\n",
    "\n",
    "conda config --prepend channels new_channel\n",
    "\n",
    "conda config --append channels new_channel"
   ]
  },
  {
   "cell_type": "markdown",
   "metadata": {},
   "source": [
    "## Cheatsheet"
   ]
  },
  {
   "cell_type": "markdown",
   "metadata": {},
   "source": [
    "### Quickstart"
   ]
  },
  {
   "cell_type": "markdown",
   "metadata": {},
   "source": [
    "| Syntax | Description |\n",
    "| --------------------------------- | ----------- |\n",
    "| conda info | verify conda install and check version |\n",
    "| conda update -n base conda | update conda in base environment |\n",
    "|conda install anaconda|install latest anaconda distribution (see release notes)|\n",
    "|conda create --name ENVNAME|create a new environment (tip: name environment descriptively)|\n",
    "|conda activate ENVNAME|activate environment (do this before installing packages)|"
   ]
  },
  {
   "cell_type": "markdown",
   "metadata": {},
   "source": [
    "### Channels and Packages"
   ]
  },
  {
   "cell_type": "markdown",
   "metadata": {},
   "source": [
    "| Syntax | Description |\n",
    "| --------------------------------- | ----------- |\n",
    "|`conda list`|list installed packages|\n",
    "|`conda list --show-channel-urls`|list installed packages with source info|\n",
    "|`conda update --all`|update all packages|\n",
    "|`conda install -c CHANNELNAME PKGNAME`  , `conda install CHANNELNAME::PKGNAME`|install a package from specific channel|\n",
    "|`conda install PKGNAME=3.1.4`|install specific version of package|\n",
    "|`conda install “PKGNAME>2.5, <3.2”`|install package with AND logic|\n",
    "|`conda uninstall PKGNAME`|uninstall package|\n",
    "|`conda config --show-sources`|view channel sources|\n",
    "|`conda config --add channels CHANNELNAME`|add channel|\n",
    "|`conda config --set channel_priority strict`|set default channel for pkg fetching (targets first channel in channel sources)|\n",
    "\n",
    "`conda install “PKGNAME version=2.5| 3.2”` install package with OR logic"
   ]
  },
  {
   "cell_type": "markdown",
   "metadata": {},
   "source": [
    "### Working with Conda Environments"
   ]
  },
  {
   "cell_type": "markdown",
   "metadata": {},
   "source": [
    "| Syntax | Description |\n",
    "| --------------------------------- | ----------- |\n",
    "|conda info --envs|list all environments and locations|\n",
    "|conda list -n ENVNAME --show-channel-urls|list all packages + source channels|\n",
    "|conda install -n ENVNAME PKGNAME1 PKGNAME2|install packages in environment|\n",
    "|conda uninstall -n ENVNAME PKGNAME|remove package from environment|\n",
    "|conda update --all -n ENVNAME|update all packages in environment|"
   ]
  },
  {
   "cell_type": "markdown",
   "metadata": {},
   "source": [
    "### Environment Management"
   ]
  },
  {
   "cell_type": "markdown",
   "metadata": {},
   "source": [
    "| Syntax | Description |\n",
    "| --------------------------------- | ----------- |\n",
    "|conda create -n ENVNAME python=3.10|create environment with Python version|\n",
    "|conda create --clone ENVNAME -n NEWENV|clone environment|\n",
    "|conda rename -n ENVNAME NEWENVNAME|rename environment|\n",
    "|conda remove -n ENVNAME --all|delete environment by name|\n",
    "|conda list -n ENVNAME --revisions|list revisions made to environment|\n",
    "|conda install -n ENVNAME --revision NUMBER|restore environment to a revision|\n",
    "|conda remove -n ENVNAME -c CHANNELNAME PKGNAME|uninstall package from specific channel|"
   ]
  },
  {
   "cell_type": "markdown",
   "metadata": {},
   "source": [
    "### Exporting Environments"
   ]
  },
  {
   "cell_type": "markdown",
   "metadata": {},
   "source": [
    "| Syntax | Description |\n",
    "| --------------------------------- | ----------- |\n",
    "|conda export --from-history>ENV.yml|cross-platform compatible|\n",
    "|conda export ENVNAME>ENV.yml|platform + package specific|\n",
    "|conda list --explicit>ENV.txt|platform + package + channel specific|"
   ]
  },
  {
   "cell_type": "markdown",
   "metadata": {},
   "source": [
    "### Importing Environments"
   ]
  },
  {
   "cell_type": "markdown",
   "metadata": {},
   "source": [
    "| Syntax | Description |\n",
    "| --------------------------------- | ----------- |\n",
    "|conda env create -n ENVNAME --file ENV.yml|from a .yml file|\n",
    "|conda create -n ENVNAME --file ENV.txt|from a .txt file|"
   ]
  },
  {
   "cell_type": "markdown",
   "metadata": {},
   "source": [
    "### Additional Hints"
   ]
  },
  {
   "cell_type": "markdown",
   "metadata": {},
   "source": [
    "| Syntax | Description |\n",
    "| --------------------------------- | ----------- |\n",
    "|conda COMMAND --help|get help for any command|\n",
    "|conda search PKGNAME --info|get info for any package|\n",
    "|conda COMMAND ARG --yes      ,conda install PKGNAME1 PKGNAME2 --yes|run commands w/o user prompt, e.g., installing multiple packages|\n",
    "|conda clean --all|remove all unused files|\n",
    "|conda config --show|examine conda configuration|"
   ]
  },
  {
   "cell_type": "markdown",
   "metadata": {},
   "source": []
  }
 ],
 "metadata": {
  "language_info": {
   "name": "python"
  }
 },
 "nbformat": 4,
 "nbformat_minor": 2
}
