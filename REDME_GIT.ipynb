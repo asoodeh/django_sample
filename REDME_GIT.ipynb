{
 "cells": [
  {
   "cell_type": "markdown",
   "id": "042ce587-ec7b-4906-83d8-abe003c693c3",
   "metadata": {},
   "source": [
    "https://github.com/settings/tokens\n",
    "\n",
    "$ git config -- <span style=\"color:blue\">*global pull.ff*</span> only  \n",
    "\n",
    "$ git config   <span style=\"color:red\">*pull.rebase*</span> false\n",
    "\n",
    "$ git config  <span style=\"color:blue\">*pull.rebase*</span> true\n",
    "\n",
    "$ git config   <span style=\"color:red\">*pull.ff*</span> only\n",
    "\n",
    "$ git config   <span style=\"color:blue\">*pull.ff*</span> true\n",
    "\n",
    "$ git config   <span style=\"color:red\">*pull.ff*</span> false\n",
    "\n",
    "$ git config   <span style=\"color:blue\">*pull.ff*</span> only\n",
    "\n",
    "$ git push -f   <span style=\"color:red\">*origin master*</span>\n",
    "\n",
    "\n",
    "```PYTHON \n",
    "\n",
    "\n",
    "user.name=“asoodeh”\n",
    "user.email=“asoodeh.ali@gmail.com”\n",
    "user.password=“->github-> settings -> Developer settings ->Personal access tokens-> Tokens(classic)-> Generate a ...”\n",
    "core.editor=vim\n",
    "credential.helper=store\n",
    "credential.usehttppath=true\n",
    "color.ui=auto\n",
    "pull.ff=only\n",
    "core.repositoryformatversion=0\n",
    "core.filemode=true\n",
    "core.bare=false\n",
    "core.logallrefupdates=true\n",
    "remote.origin.url=https://github.com/asoodeh/django_sample.git\n",
    "remote.origin.fetch=+refs/heads/*:refs/remotes/origin/*\n",
    "remote.master.url=https://github.com/asoodeh/django_sample.git\n",
    "remote.master.fetch=+refs/heads/*:refs/remotes/master/*\n",
    "user.name=asoodeh\n",
    "credential.username=asoodeh\n",
    "branch.FixForBug.remote=origin\n",
    "branch.FixForBug.merge=refs/heads/master\n",
    "pull.rebase=true\n",
    "pull.ff=only\n",
    "\n",
    "```\n",
    "\n",
    "\n",
    "\n"
   ]
  },
  {
   "cell_type": "markdown",
   "id": "4c732247-7c14-4e47-ab99-cc54304288cd",
   "metadata": {},
   "source": []
  },
  {
   "cell_type": "code",
   "execution_count": null,
   "id": "f9679804-bd67-413a-af18-026dcebb156f",
   "metadata": {},
   "outputs": [],
   "source": []
  }
 ],
 "metadata": {
  "kernelspec": {
   "display_name": "Python 3 (ipykernel)",
   "language": "python",
   "name": "python3"
  },
  "language_info": {
   "codemirror_mode": {
    "name": "ipython",
    "version": 3
   },
   "file_extension": ".py",
   "mimetype": "text/x-python",
   "name": "python",
   "nbconvert_exporter": "python",
   "pygments_lexer": "ipython3",
   "version": "3.12.2"
  }
 },
 "nbformat": 4,
 "nbformat_minor": 5
}
